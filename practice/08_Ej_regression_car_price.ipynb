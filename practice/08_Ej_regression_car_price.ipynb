{
 "cells": [
  {
   "cell_type": "markdown",
   "metadata": {},
   "source": [
    "# Imports"
   ]
  },
  {
   "cell_type": "code",
   "execution_count": null,
   "metadata": {
    "id": "P0xLtRswK9AV"
   },
   "outputs": [],
   "source": [
    "import pandas as pd\n",
    "import seaborn as sns\n",
    "import matplotlib.pyplot as plt\n",
    "import numpy as np\n",
    "\n",
    "from sklearn.linear_model import LinearRegression\n",
    "\n",
    "from sklearn.preprocessing import StandardScaler\n",
    "from sklearn.pipeline import Pipeline\n",
    "from sklearn.compose import ColumnTransformer\n",
    "from sklearn.impute import SimpleImputer\n",
    "from sklearn.model_selection import train_test_split\n",
    "from sklearn.metrics import accuracy_score\n",
    "from sklearn.metrics import classification_report\n",
    "from sklearn import metrics"
   ]
  },
  {
   "cell_type": "code",
   "execution_count": null,
   "metadata": {
    "colab": {
     "base_uri": "https://localhost:8080/",
     "height": 253
    },
    "id": "5trwC-5EKCbk",
    "outputId": "ec25f560-bda1-4124-d51e-8510cfb47180"
   },
   "outputs": [],
   "source": [
    "df_car = pd.read_csv('https://raw.githubusercontent.com/pokengineer/DataScience/main/datasets/car_price.csv')\n",
    "df_car.head(5)"
   ]
  },
  {
   "cell_type": "markdown",
   "metadata": {},
   "source": [
    "# ETL"
   ]
  },
  {
   "cell_type": "code",
   "execution_count": null,
   "metadata": {},
   "outputs": [],
   "source": [
    "def etl_dataset( df ): \n",
    "    # Torque\n",
    "    df['RPM'] = df['torque'].str.extract(r'(\\d+)rpm', expand=False)\n",
    "    df['RPM'].fillna(df['torque'].str.extract(r'(\\d{1,3}(?:,\\d{3})*)\\(kgm@ rpm\\)', expand=False), inplace=True)\n",
    "    df['RPM'].fillna(df['torque'].str.extract(r'(\\d+) RPM', expand=False), inplace=True)\n",
    "    df['RPM'].fillna(df['torque'].str.extract(r'(\\d+)  rpm ', expand=False), inplace=True)\n",
    "    df['RPM'].fillna(df['torque'].str.extract(r'(\\d+) rpm', expand=False), inplace=True)\n",
    "    df['TORQUE'] = df['torque'].str.extract(r'(\\d+)Nm@', expand=False)\n",
    "    df['TORQUE'].fillna(df['torque'].str.extract(r'(\\d+)nm@', expand=False), inplace=True)\n",
    "    df['TORQUE'].fillna(df['torque'].str.extract(r'(\\d+) Nm', expand=False), inplace=True)\n",
    "    df['TORQUE'].fillna(df['torque'].str.extract(r'(\\d+)@', expand=False), inplace=True)\n",
    "    df['TORQUE'].fillna(df['torque'].str.extract(r'(\\d+)Nm', expand=False), inplace=True)\n",
    "    df['TORQUE'].fillna(df['torque'].str.extract(r'(\\d+)  Nm', expand=False), inplace=True)\n",
    "    df['TORQUE'].fillna(df['torque'].str.extract(r'(\\d+)NM@', expand=False), inplace=True)\n",
    "    df['TORQUE'].fillna((df['torque'].str.extract(r'(\\d{1,2}(?:[,.]\\d{1,2})?)@\\s*\\d{1,3}(?:,\\d{3})*\\(kgm@ rpm\\)', expand=False)).astype(float) * 9.8, inplace=True)\n",
    "    df['TORQUE'].fillna((df['torque'].str.extract(r'(\\d{1,2}(?:[,.]\\d{1,2})?)\\s*kgm', expand=False)).astype(float) * 9.8,inplace=True)\n",
    "    df['RPM'] = df['RPM'].str.replace(',', '').astype(float)\n",
    "    df['TORQUE'] = df['TORQUE'].astype(float)\n",
    "    # Brand\n",
    "    df['BRAND'] = df['name'].astype('str').apply(lambda x: x.split()[0])\n",
    "    # Milage\n",
    "    df['MILEAGE'] = (df['mileage'].apply(lambda x: str(x).replace(' kmpl', '').replace(' km/kg', ''))).astype(float)\n",
    "    # Engine\n",
    "    df['ENGINE'] = (df['engine'].apply(lambda x: str(x).replace(' CC', ''))).astype(float)\n",
    "    # Max Power\n",
    "    df['MAX_POWER'] = df['max_power'].astype(str).apply(lambda x: x.split()[0])\n",
    "    df.drop(df[df['MAX_POWER'] == 'bhp'].index, inplace=True, axis=0)\n",
    "    df['MAX_POWER'] = df['MAX_POWER'].astype(float)\n",
    "    # Drop columns \n",
    "    return df.drop(['torque', 'name', 'mileage', 'engine', 'max_power'], axis=1)"
   ]
  },
  {
   "cell_type": "code",
   "execution_count": null,
   "metadata": {},
   "outputs": [],
   "source": [
    "df_car = etl_dataset( df_car )"
   ]
  },
  {
   "cell_type": "markdown",
   "metadata": {},
   "source": [
    "# Analisis del Dataset"
   ]
  },
  {
   "cell_type": "code",
   "execution_count": null,
   "metadata": {},
   "outputs": [],
   "source": [
    "# Identificamos las variables categóricas para crear dummies o incluirla de otra forma\n",
    "categorical = [var for var in df_car.columns if df_car[var].dtype=='O']\n",
    "print('las variables categoricas son:\\n', categorical)\n",
    "print(\"\\nchequeamos la dimensionalidad de las variables\")\n",
    "for var in categorical:\n",
    "    print(len(df_car[var].unique()), ' valores unicos en ', var )"
   ]
  },
  {
   "cell_type": "code",
   "execution_count": null,
   "metadata": {},
   "outputs": [],
   "source": [
    "cat_cols_count = len(categorical)\n",
    "cat_rows = cat_cols_count // 3\n",
    "cat_rows += 1 if cat_cols_count % 3 != 0 else 0  # Eğer sütun sayısı 3'e tam bölünmüyorsa bir ek satır oluştur.\n",
    "\n",
    "fig, axes = plt.subplots(cat_rows, 3, figsize=(10, 10), squeeze=True)\n",
    "axes = axes.flatten()\n",
    "\n",
    "for i, col in enumerate(categorical):\n",
    "    sns.countplot(data=df_car, x=col, ax=axes[i], order=df_car[col].value_counts().index)\n",
    "    axes[i].set_xlabel(col)\n",
    "\n",
    "plt.tight_layout()\n",
    "plt.show()"
   ]
  },
  {
   "cell_type": "code",
   "execution_count": null,
   "metadata": {},
   "outputs": [],
   "source": [
    "# identificamos las variables numéricas\n",
    "numerical = [var for var in df_car.columns if df_car[var].dtype!='O']\n",
    "print('las variables numéricas son:\\n', numerical)"
   ]
  },
  {
   "cell_type": "code",
   "execution_count": null,
   "metadata": {},
   "outputs": [],
   "source": [
    "for columna in numerical:\n",
    "    df_car.plot(x=columna, y='selling_price',kind='scatter')\n",
    "plt.show()"
   ]
  },
  {
   "cell_type": "code",
   "execution_count": null,
   "metadata": {},
   "outputs": [],
   "source": [
    "sns.heatmap(df_car[numerical].corr(), annot=True, fmt='.2f', linewidths=.5, cbar_kws={\"shrink\": .8})\n",
    "plt.show()"
   ]
  },
  {
   "cell_type": "code",
   "execution_count": null,
   "metadata": {},
   "outputs": [],
   "source": [
    "# Verificamos si hay valores nulos para imputar\n",
    "df_car.isnull().sum()"
   ]
  },
  {
   "cell_type": "markdown",
   "metadata": {
    "id": "RmZa5mOdPpku"
   },
   "source": [
    "# Pipeline"
   ]
  },
  {
   "cell_type": "code",
   "execution_count": null,
   "metadata": {},
   "outputs": [],
   "source": [
    "df_car.columns"
   ]
  },
  {
   "cell_type": "code",
   "execution_count": null,
   "metadata": {},
   "outputs": [],
   "source": [
    "X_car = df_car.drop(columns=\"selling_price\")\n",
    "y_car = df_car[\"selling_price\"]\n",
    "X_train, X_test, y_train, y_test = train_test_split(X_car, y_car,test_size=0.3, random_state=0)\n",
    "\n",
    "X = ['TORQUE']\n",
    "pl = Pipeline([\n",
    "    (\"selector\", ColumnTransformer([(\"selector\", \"passthrough\", X )], remainder=\"drop\")),\n",
    "    (\"imputer\",SimpleImputer(strategy=\"most_frequent\")),\n",
    "    ('scaler', StandardScaler(with_mean=True, with_std=True)),\n",
    "    ('regressor', LinearRegression())\n",
    "])\n",
    "\n",
    "pl.fit( X_train, y_train )"
   ]
  },
  {
   "cell_type": "markdown",
   "metadata": {
    "id": "im1OPXM9dvth"
   },
   "source": [
    "# Regresion Lineal Simple"
   ]
  },
  {
   "cell_type": "code",
   "execution_count": null,
   "metadata": {},
   "outputs": [],
   "source": [
    "predicted = pl.predict(X_test)"
   ]
  },
  {
   "cell_type": "code",
   "execution_count": null,
   "metadata": {},
   "outputs": [],
   "source": [
    "pl['regressor'].n_features_in_"
   ]
  },
  {
   "cell_type": "code",
   "execution_count": null,
   "metadata": {},
   "outputs": [],
   "source": [
    "# score devuelve coeficiente de determinación, denominado R²\n",
    "print( \"R²: \" + str( pl.score(X_test,y_test) ))"
   ]
  },
  {
   "cell_type": "code",
   "execution_count": null,
   "metadata": {},
   "outputs": [],
   "source": [
    "X_train.head()"
   ]
  },
  {
   "cell_type": "code",
   "execution_count": null,
   "metadata": {},
   "outputs": [],
   "source": [
    "X_train.columns"
   ]
  },
  {
   "cell_type": "code",
   "execution_count": null,
   "metadata": {},
   "outputs": [],
   "source": [
    "# Import matplotlib.pyplot\n",
    "import matplotlib.pyplot as plt\n",
    "\n",
    "# Create scatter plot\n",
    "plt.scatter( X_test['TORQUE'],y_test, color=\"blue\")\n",
    "\n",
    "# Create line plot\n",
    "plt.plot( X_test['TORQUE'],predicted,color=\"red\")\n",
    "plt.xlabel(\"TORQUE\")\n",
    "plt.ylabel(\"selling price\")\n",
    "\n",
    "# Display the plot\n",
    "plt.show()"
   ]
  },
  {
   "cell_type": "markdown",
   "metadata": {
    "id": "6rGxzQrwf9Qd"
   },
   "source": [
    "# Ejercicio\n",
    "- probar el modelo con la variable de mayor correlacion, MAX_POWER\n",
    "- imputar a la media los valores nulos dentro de la funcion de preparacion de datos\n",
    "- realizar un modelo de regresion lineal que use más de una columna\n",
    "- como transformaríamos la variable owner a un número para usar en el modelo? podemos aplicar la misma lógica a todas las variables categóricas?"
   ]
  },
  {
   "cell_type": "markdown",
   "metadata": {},
   "source": [
    "# Código adicional:\n",
    "Recordemos que hay distintos modelos de [aprendizaje supervisado](https://scikit-learn.org/stable/supervised_learning.html) para problemas de regresión. <br>\n",
    "En este cuatrimestre no profundizamos en alternativas pero aquellas incluidas en scikit-learn se implementan igual que como usamos Regresion Lineal ( como SVM, LDA, QDA, GradinentBoosting, etc), dejo un ejemplo cortito:"
   ]
  },
  {
   "cell_type": "code",
   "execution_count": null,
   "metadata": {},
   "outputs": [],
   "source": [
    "from sklearn.svm import SVR\n",
    "from sklearn.model_selection import GridSearchCV\n",
    "\n",
    "X = ['year', 'km_driven','seats', 'RPM', 'TORQUE', 'MILEAGE', 'ENGINE', 'MAX_POWER']\n",
    "pl2 = Pipeline([\n",
    "    (\"selector\", ColumnTransformer([(\"selector\", \"passthrough\", X )], remainder=\"drop\")),\n",
    "    (\"imputer\",SimpleImputer(strategy=\"most_frequent\")),\n",
    "    ('scaler', StandardScaler(with_mean=True, with_std=True)),\n",
    "    ('regressor', SVR())\n",
    "])\n",
    "param_grid = {\n",
    "    'regressor__C': [0.1, 1, 10, 100, 500, 1000],\n",
    "    'regressor__epsilon': [0.01, 0.1, 0.5, 0.9, 1]\n",
    "}\n",
    "\n",
    "grid = GridSearchCV(\n",
    "    pl2,\n",
    "    param_grid,\n",
    "    cv=5,\n",
    "    scoring='r2',\n",
    "    n_jobs=-1,\n",
    "    verbose=2\n",
    ")\n",
    "\n",
    "grid.fit(X_train, y_train)"
   ]
  },
  {
   "cell_type": "code",
   "execution_count": null,
   "metadata": {},
   "outputs": [],
   "source": [
    "print(\"Best parameters:\", grid.best_params_)\n",
    "print(\"Best cross-val R²:\", grid.best_score_)\n",
    "print(\"Test R²:\", grid.score(X_test, y_test))"
   ]
  }
 ],
 "metadata": {
  "colab": {
   "provenance": []
  },
  "kernelspec": {
   "display_name": "Python 3",
   "name": "python3"
  },
  "language_info": {
   "codemirror_mode": {
    "name": "ipython",
    "version": 3
   },
   "file_extension": ".py",
   "mimetype": "text/x-python",
   "name": "python",
   "nbconvert_exporter": "python",
   "pygments_lexer": "ipython3",
   "version": "3.9.1"
  }
 },
 "nbformat": 4,
 "nbformat_minor": 0
}
