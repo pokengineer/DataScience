{
  "cells": [
    {
      "cell_type": "code",
      "execution_count": null,
      "metadata": {
        "id": "P0xLtRswK9AV"
      },
      "outputs": [],
      "source": [
        "import pandas as pd\n",
        "import seaborn as sns\n",
        "import matplotlib.pyplot as plt\n",
        "\n",
        "from sklearn.preprocessing import StandardScaler\n",
        "\n",
        "import warnings\n",
        "warnings.filterwarnings('ignore')"
      ]
    },
    {
      "cell_type": "markdown",
      "metadata": {
        "id": "MIrmam4QK985"
      },
      "source": [
        "# Análisis Exploratorio"
      ]
    },
    {
      "cell_type": "code",
      "execution_count": null,
      "metadata": {
        "id": "5trwC-5EKCbk"
      },
      "outputs": [],
      "source": [
        "df = pd.read_csv('https://raw.githubusercontent.com/pokengineer/DataScience/main/datasets/mall_customers.csv')\n",
        "df.head(5)"
      ]
    },
    {
      "cell_type": "code",
      "execution_count": null,
      "metadata": {
        "id": "fOt2OYnyMu8z"
      },
      "outputs": [],
      "source": [
        "# Verificamos si hay valores nulos para imputar\n",
        "df.isnull().sum()"
      ]
    },
    {
      "cell_type": "markdown",
      "metadata": {
        "id": "MecRQ1slFJVg"
      },
      "source": [
        "# Escalamos las Variables"
      ]
    },
    {
      "cell_type": "code",
      "execution_count": null,
      "metadata": {
        "id": "jKStgw_EFwJ4"
      },
      "outputs": [],
      "source": [
        "scaler_X = StandardScaler(with_mean=True, with_std=True)\n",
        "scaler_X.fit(df.iloc[:,2:5])\n",
        "X = pd.DataFrame(scaler_X.transform(df.iloc[:,2:5],), columns = df.iloc[:,2:5].columns )"
      ]
    },
    {
      "cell_type": "markdown",
      "metadata": {
        "id": "qcRRQADzNi6h"
      },
      "source": [
        "# KMeans"
      ]
    },
    {
      "cell_type": "code",
      "execution_count": null,
      "metadata": {
        "id": "tqPyTOWONRNN"
      },
      "outputs": [],
      "source": [
        "from sklearn.cluster import KMeans\n",
        "wcss=[]\n",
        "for i in range(1,10):\n",
        "    kmeans=KMeans(n_clusters=i,init='k-means++',)\n",
        "    kmeans.fit(X)\n",
        "    wcss.append(kmeans.inertia_)\n",
        "\n",
        "plt.plot(range(1,10),wcss)\n",
        "plt.title('Elbow Method')\n",
        "plt.xlabel('No. of cluster')\n",
        "plt.ylabel('wcss: sum of dist. of sample to their closest cluster center' )"
      ]
    },
    {
      "cell_type": "code",
      "execution_count": null,
      "metadata": {
        "id": "8gH15EmiORMU"
      },
      "outputs": [],
      "source": [
        "kmeans_1=KMeans(n_clusters=5)\n",
        "kmeans_1.fit(X)\n",
        "cluster_pred=kmeans_1.predict(X)"
      ]
    },
    {
      "cell_type": "code",
      "execution_count": null,
      "metadata": {
        "id": "XOC6Mv-HQbLa"
      },
      "outputs": [],
      "source": [
        "X.plot(x='Spending Score (1-100)', y='Annual Income (k$)',kind='scatter',c=cluster_pred,colormap='viridis')"
      ]
    },
    {
      "cell_type": "markdown",
      "metadata": {
        "id": "um6Hd8-jSUNm"
      },
      "source": [
        "# DBSCAN"
      ]
    },
    {
      "cell_type": "code",
      "execution_count": null,
      "metadata": {
        "id": "Tt9cgyMfSWIY"
      },
      "outputs": [],
      "source": [
        "from sklearn.cluster import DBSCAN\n",
        "dbscan_1 = DBSCAN(eps=0.5, min_samples=5)\n",
        "dbscan_1.fit(X)\n",
        "cluster_pred_2 = dbscan_1.labels_.astype(int)"
      ]
    },
    {
      "cell_type": "code",
      "execution_count": null,
      "metadata": {
        "id": "cz3PxEJwTRH5"
      },
      "outputs": [],
      "source": [
        "X.plot(x='Spending Score (1-100)', y='Annual Income (k$)',kind='scatter',c=cluster_pred_2,colormap='viridis')"
      ]
    },
    {
      "cell_type": "markdown",
      "metadata": {},
      "source": [
        "# PCA"
      ]
    },
    {
      "cell_type": "code",
      "execution_count": null,
      "metadata": {},
      "outputs": [],
      "source": [
        "from sklearn.decomposition import PCA\n",
        "pca = PCA(n_components=2)\n",
        "X_pca = pca.fit_transform(X)"
      ]
    },
    {
      "cell_type": "code",
      "execution_count": null,
      "metadata": {},
      "outputs": [],
      "source": [
        "pca.components_[0]"
      ]
    },
    {
      "cell_type": "code",
      "execution_count": null,
      "metadata": {},
      "outputs": [],
      "source": [
        "kmeans_2=KMeans(n_clusters=5)\n",
        "kmeans_2.fit(X_pca[:,0:1])\n",
        "cluster_pred_3=kmeans_2.predict(X_pca[:,0:1])"
      ]
    },
    {
      "cell_type": "code",
      "execution_count": null,
      "metadata": {},
      "outputs": [],
      "source": [
        "plt.scatter(X_pca[:,0],X_pca[:,1],c=cluster_pred_3,cmap='viridis')"
      ]
    },
    {
      "cell_type": "code",
      "execution_count": null,
      "metadata": {},
      "outputs": [],
      "source": [
        "X.plot(x='Spending Score (1-100)', y='Annual Income (k$)',kind='scatter',c=cluster_pred_3,colormap='viridis')"
      ]
    },
    {
      "cell_type": "markdown",
      "metadata": {
        "id": "gfrKkkcqPmH8"
      },
      "source": [
        "# Clustering Jerarquico"
      ]
    },
    {
      "cell_type": "code",
      "execution_count": null,
      "metadata": {
        "id": "Q7mhk_2sPlux"
      },
      "outputs": [],
      "source": [
        "import scipy\n",
        "from scipy.cluster import hierarchy\n",
        "linkage = hierarchy.linkage(X, method='average')\n",
        "cluster_pred_4 = hierarchy.fcluster(linkage, 10 , criterion='maxclust')\n",
        "dendro=hierarchy.dendrogram( linkage )"
      ]
    },
    {
      "cell_type": "code",
      "execution_count": null,
      "metadata": {
        "id": "cWwDGaH3YMir"
      },
      "outputs": [],
      "source": [
        "X.plot(x='Spending Score (1-100)', y='Annual Income (k$)',kind='scatter',c=cluster_pred_4,colormap='viridis')"
      ]
    },
    {
      "cell_type": "markdown",
      "metadata": {
        "id": "fVOQIHqXmAj8"
      },
      "source": [
        "# Ejercicio\n",
        "Pensar las respuestas y despues probar en el código\n",
        "- según el método de elbow ¿que otro K podria haber sido bueno para kmeans?\n",
        "- ¿que pasa si reduzco min_samples en DBSCAN ?\n",
        "- usando pca.components_[0] ¿podriamos \"entender\" que representa la primera componente de PCA / escribir la formula para calcularlo? \n",
        "- ¿que pasa si uso otro metodo de asociacion para el linkage del clustering jerárquico?\n",
        "- ¿cómo hago los clusters del clustering jerarquico (fcluster) por distancia y no por numero maximo de clusters?"
      ]
    },
    {
      "cell_type": "markdown",
      "metadata": {
        "id": "d51KJ-7haRiv"
      },
      "source": [
        "* https://scikit-learn.org/stable/modules/generated/sklearn.cluster.KMeans.html\n",
        "* https://scikit-learn.org/stable/modules/generated/sklearn.cluster.DBSCAN.html\n",
        "* https://docs.scipy.org/doc/scipy/reference/generated/scipy.cluster.hierarchy.fcluster.html#scipy.cluster.hierarchy.fcluster"
      ]
    },
    {
      "cell_type": "code",
      "execution_count": null,
      "metadata": {
        "id": "f5ZUPk7Mgp52"
      },
      "outputs": [],
      "source": []
    }
  ],
  "metadata": {
    "colab": {
      "provenance": []
    },
    "kernelspec": {
      "display_name": "Python 3",
      "name": "python3"
    },
    "language_info": {
      "codemirror_mode": {
        "name": "ipython",
        "version": 3
      },
      "file_extension": ".py",
      "mimetype": "text/x-python",
      "name": "python",
      "nbconvert_exporter": "python",
      "pygments_lexer": "ipython3",
      "version": "3.9.1"
    }
  },
  "nbformat": 4,
  "nbformat_minor": 0
}
